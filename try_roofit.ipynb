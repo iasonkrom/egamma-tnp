{
 "cells": [
  {
   "cell_type": "code",
   "execution_count": 1,
   "id": "a1a1ef19-0b54-4de5-b829-1eb4db84a570",
   "metadata": {},
   "outputs": [
    {
     "name": "stdout",
     "output_type": "stream",
     "text": [
      "Welcome to JupyROOT 6.30/04\n"
     ]
    },
    {
     "name": "stderr",
     "output_type": "stream",
     "text": [
      "Info in <TCanvas::MakeDefCanvas>:  created default TCanvas with name c1\n",
      "Info in <Minuit2>: MnSeedGenerator Computing seed using NumericalGradient calculator\n",
      "Info in <Minuit2>: MnSeedGenerator Initial state: FCN =      -6016863.481 Edm =       88478.44583 NCalls =     49\n",
      "Info in <Minuit2>: NegativeG2LineSearch Doing a NegativeG2LineSearch since one of the G2 component is negative\n",
      "Info in <Minuit2>: MnSeedGenerator Negative G2 found - new state: \n",
      "  Minimum value : -6020014.179\n",
      "  Edm           : 115545.4419\n",
      "  Internal parameters:\t[     -1.142194548     -1.142194548      1.481323767                0     -1.177521524     -0.532324639     0.4115168461    -0.4115168461   -0.01010118188]\t\n",
      "  Internal gradient  :\t[      -13719.4608     -83406.21241      559515.2921      1577.032536      664.1488349     -6405.029632      13308.49822     -31055.70461      29320.73302]\t\n",
      "  Internal covariance matrix:\n",
      "[[  4.8686949e-06              0              0              0              0              0              0              0              0]\n",
      " [              0   3.060313e-06              0              0              0              0              0              0              0]\n",
      " [              0              0  4.0298301e-07              0              0              0              0              0              0]\n",
      " [              0              0              0  3.2496695e-05              0              0              0              0              0]\n",
      " [              0              0              0              0  2.1268459e-05              0              0              0              0]\n",
      " [              0              0              0              0              0   0.0001041277              0              0              0]\n",
      " [              0              0              0              0              0              0  1.3420235e-05              0              0]\n",
      " [              0              0              0              0              0              0              0  8.1582354e-06              0]\n",
      " [              0              0              0              0              0              0              0              0  0.00034804018]]]\n",
      "Info in <Minuit2>: MnSeedGenerator Initial state  \n",
      "  Minimum value : -6020014.179\n",
      "  Edm           : 115545.4419\n",
      "  Internal parameters:\t[     -1.142194548     -1.142194548      1.481323767                0     -1.177521524     -0.532324639     0.4115168461    -0.4115168461   -0.01010118188]\t\n",
      "  Internal gradient  :\t[      -13719.4608     -83406.21241      559515.2921      1577.032536      664.1488349     -6405.029632      13308.49822     -31055.70461      29320.73302]\t\n",
      "  Internal covariance matrix:\n",
      "[[  4.8686949e-06              0              0              0              0              0              0              0              0]\n",
      " [              0   3.060313e-06              0              0              0              0              0              0              0]\n",
      " [              0              0  4.0298301e-07              0              0              0              0              0              0]\n",
      " [              0              0              0  3.2496695e-05              0              0              0              0              0]\n",
      " [              0              0              0              0  2.1268459e-05              0              0              0              0]\n",
      " [              0              0              0              0              0   0.0001041277              0              0              0]\n",
      " [              0              0              0              0              0              0  1.3420235e-05              0              0]\n",
      " [              0              0              0              0              0              0              0  8.1582354e-06              0]\n",
      " [              0              0              0              0              0              0              0              0  0.00034804018]]]\n",
      "Info in <Minuit2>: VariableMetricBuilder Start iterating until Edm is < 0.001 with call limit = 4500\n",
      "Info in <Minuit2>: VariableMetricBuilder    0 - FCN =      -6020014.179 Edm =       115545.4419 NCalls =     83\n",
      "Info in <Minuit2>: VariableMetricBuilder    1 - FCN =      -6034664.498 Edm =       25286.04252 NCalls =    116\n",
      "Info in <Minuit2>: VariableMetricBuilder    2 - FCN =       -6044606.69 Edm =       4647.627322 NCalls =    142\n",
      "Info in <Minuit2>: VariableMetricBuilder    3 - FCN =       -6046130.93 Edm =       2807.225836 NCalls =    166\n",
      "Info in <Minuit2>: VariableMetricBuilder    4 - FCN =      -6046555.503 Edm =        280.952806 NCalls =    186\n",
      "Info in <Minuit2>: VariableMetricBuilder    5 - FCN =      -6046896.792 Edm =       85.31797547 NCalls =    207\n",
      "Info in <Minuit2>: VariableMetricBuilder    6 - FCN =      -6046962.191 Edm =       15.63556494 NCalls =    227\n",
      "Info in <Minuit2>: VariableMetricBuilder    7 - FCN =      -6046991.192 Edm =       16.96567326 NCalls =    251\n",
      "Info in <Minuit2>: VariableMetricBuilder    8 - FCN =      -6047055.003 Edm =       29.72285838 NCalls =    280\n",
      "Info in <Minuit2>: VariableMetricBuilder    9 - FCN =      -6047063.238 Edm =       36.61013597 NCalls =    300\n",
      "Info in <Minuit2>: VariableMetricBuilder   10 - FCN =      -6047140.325 Edm =       11.53580427 NCalls =    321\n",
      "Info in <Minuit2>: VariableMetricBuilder   11 - FCN =      -6047152.132 Edm =       1.223758712 NCalls =    340\n",
      "Info in <Minuit2>: VariableMetricBuilder   12 - FCN =      -6047154.697 Edm =       1.682335629 NCalls =    360\n",
      "Info in <Minuit2>: VariableMetricBuilder   13 - FCN =      -6047158.364 Edm =       2.768775675 NCalls =    381\n",
      "Info in <Minuit2>: VariableMetricBuilder   14 - FCN =      -6047169.678 Edm =       1.506636601 NCalls =    402\n",
      "Info in <Minuit2>: VariableMetricBuilder   15 - FCN =      -6047173.101 Edm =      0.4552546698 NCalls =    423\n",
      "Info in <Minuit2>: VariableMetricBuilder   16 - FCN =      -6047173.818 Edm =      0.0806242711 NCalls =    444\n",
      "Info in <Minuit2>: VariableMetricBuilder   17 - FCN =      -6047173.886 Edm =     0.01530612885 NCalls =    464\n",
      "Info in <Minuit2>: VariableMetricBuilder   18 - FCN =      -6047173.892 Edm =    0.002757866682 NCalls =    485\n",
      "Info in <Minuit2>: VariableMetricBuilder   19 - FCN =      -6047173.892 Edm =    0.002497312536 NCalls =    506\n",
      "Info in <Minuit2>: VariableMetricBuilder   20 - FCN =      -6047173.892 Edm =    0.002302015345 NCalls =    528\n",
      "Info in <Minuit2>: VariableMetricBuilder   21 - FCN =      -6047173.892 Edm =    0.001515785358 NCalls =    549\n",
      "Info in <Minuit2>: VariableMetricBuilder   22 - FCN =      -6047173.892 Edm =   0.0009600804966 NCalls =    570\n",
      "Info in <Minuit2>: VariableMetricBuilder   23 - FCN =      -6047173.893 Edm =   0.0004782846578 NCalls =    590\n",
      "Info in <Minuit2>: VariableMetricBuilder After Hessian\n",
      "Info in <Minuit2>: VariableMetricBuilder   24 - FCN =      -6047173.893 Edm =      0.2400272608 NCalls =    681\n",
      "Warning in <Minuit2>: VariableMetricBuilder Reached machine accuracy limit; Edm 0.240027 is smaller than machine limit 0.36044 while 0.001 was requested\n",
      "Warning in <Minuit2>: VariableMetricBuilder No convergence; Edm 0.240027 is above tolerance 0.01\n",
      "Warning in <Minuit2>: Minuit2Minimizer::Minimize Minimization did NOT converge, Edm is above max\n",
      "Info in <Minuit2>: Minuit2Minimizer::Hesse Using max-calls 4500\n",
      "Info in <Minuit2>: Minuit2Minimizer::Hesse Hesse is valid - matrix is accurate\n"
     ]
    },
    {
     "name": "stdout",
     "output_type": "stream",
     "text": [
      "[#1] INFO:Minimization -- p.d.f. provides expected number of events, including extended term in likelihood.\n",
      "[#1] INFO:Minimization -- RooAbsMinimizerFcn::setOptimizeConst: activating const optimization\n",
      "[#1] INFO:Minimization --  The following expressions will be evaluated in cache-and-track mode: (crystalBall,exp_bg)\n",
      "Minuit2Minimizer: Minimize with max-calls 4500 convergence for edm < 1 strategy 1\n",
      "Minuit2Minimizer : Invalid Minimum - status = 3\n",
      "FVAL  = -6.04717e+06\n",
      "Edm   = 0.240027\n",
      "Nfcn  = 681\n",
      "[#1] INFO:Minimization -- RooAbsMinimizerFcn::setOptimizeConst: deactivating const optimization\n",
      "[#1] INFO:Plotting -- RooAbsPdf::plotOn(model) directly selected PDF components: (crystalBall)\n",
      "[#1] INFO:Plotting -- RooAbsPdf::plotOn(model) indirectly selected PDF components: ()\n",
      "[#1] INFO:Plotting -- RooAbsPdf::plotOn(model) directly selected PDF components: (exp_bg)\n",
      "[#1] INFO:Plotting -- RooAbsPdf::plotOn(model) indirectly selected PDF components: ()\n"
     ]
    }
   ],
   "source": [
    "import ROOT\n",
    "\n",
    "# Open the ROOT file and access the TTree\n",
    "file = ROOT.TFile.Open(\"tnptuples/data_EGamma_Run2022D.root\")\n",
    "tree = file.Get(\"tnpEleTrig/fitter_tree\")\n",
    "\n",
    "# Define the observable\n",
    "x = ROOT.RooRealVar(\"x\", \"pair_mass\", 50, 130)\n",
    "\n",
    "# Create a histogram from TTree data and convert it to RooDataHist\n",
    "hist_name = \"hist_pair_mass\"\n",
    "num_bins = 50\n",
    "hist = ROOT.TH1F(hist_name, \"Histogram of pair_mass\", num_bins, 50, 130)\n",
    "tree.Draw(\"pair_mass>>\" + hist_name, \"passingMVA122Xwp90isoV1 == 0\")\n",
    "rooHist = ROOT.RooDataHist(\"rooHist\", \"Histogram\", ROOT.RooArgList(x), hist)\n",
    "\n",
    "# CrystalBall Signal Parameters\n",
    "mu_cb = ROOT.RooRealVar(\"mu_cb\", \"mean of CB\", 90, 85, 95)\n",
    "# sigmaL = ROOT.RooRealVar(\"sigmaL\", \"left width\", 2, 0.1, 20)\n",
    "# sigmaR = ROOT.RooRealVar(\"sigmaR\", \"right width\", 2, 0.1, 20)\n",
    "sigmaLR = ROOT.RooRealVar(\"sigmaLR\", \"right width\", 5, 0.1, 10)\n",
    "alphaL = ROOT.RooRealVar(\"alphaL\", \"left alpha\", 1, 0.1, 20)\n",
    "nL = ROOT.RooRealVar(\"nL\", \"left n\", 5, 0.1, 20)\n",
    "alphaR = ROOT.RooRealVar(\"alphaR\", \"right alpha\", 1, 0.1, 20)\n",
    "nR = ROOT.RooRealVar(\"nR\", \"right n\", 5, 0.1, 20)\n",
    "crystalBall = ROOT.RooCrystalBall(\"crystalBall\", \"CrystalBall\", x, mu_cb, sigmaLR, alphaL, nL, alphaR, nR)\n",
    "\n",
    "# Exponential Background Parameters\n",
    "lambda_exp = ROOT.RooRealVar(\"lambda_exp\", \"slope of exp\", -0.01, -5.0, 0.0)\n",
    "exp_bg = ROOT.RooExponential(\"exp_bg\", \"Exponential Background\", x, lambda_exp)\n",
    "\n",
    "# Calculate the total number of events in the histogram\n",
    "total_events = hist.Integral()\n",
    "\n",
    "# Calculate initial values for nsig and nbkg based on fractions of total events\n",
    "nsig_initial = total_events * 0.3\n",
    "nbkg_initial = total_events * 0.7\n",
    "\n",
    "# Define nsig and nbkg with these initial values\n",
    "nsig = ROOT.RooRealVar(\"nsig\", \"number of signal events\", nsig_initial, 0, total_events)\n",
    "nbkg = ROOT.RooRealVar(\"nbkg\", \"number of background events\", nbkg_initial, 0, total_events)\n",
    "\n",
    "\n",
    "# Composite Model\n",
    "model = ROOT.RooAddPdf(\"model\", \"Signal + Background\", ROOT.RooArgList(crystalBall, exp_bg), ROOT.RooArgList(nsig, nbkg))\n",
    "\n",
    "# Fit the Composite Model to the Histogram Data\n",
    "result = model.fitTo(rooHist, ROOT.RooFit.Save())\n",
    "\n",
    "# Plotting the Fit Result and Components\n",
    "c = ROOT.TCanvas(\"c\", \"Fit Result\", 800, 600)\n",
    "frame = x.frame(ROOT.RooFit.Title(\"Fit with Double-sided Crystal Ball and Exponential Background\"))\n",
    "rooHist.plotOn(frame, ROOT.RooFit.DataError(ROOT.RooAbsData.Poisson)) \n",
    "model.plotOn(frame)\n",
    "\n",
    "model.plotOn(frame, ROOT.RooFit.Components(crystalBall), ROOT.RooFit.LineStyle(ROOT.kDashed), ROOT.RooFit.LineColor(ROOT.kRed))\n",
    "model.plotOn(frame, ROOT.RooFit.Components(exp_bg), ROOT.RooFit.LineStyle(ROOT.kDashed), ROOT.RooFit.LineColor(ROOT.kBlue))\n",
    "frame.Draw()"
   ]
  },
  {
   "cell_type": "code",
   "execution_count": 2,
   "id": "5427daad-d9bb-45e7-bae2-072f262108b0",
   "metadata": {},
   "outputs": [
    {
     "data": {
      "image/png": "[encoded data removed]",
      "text/plain": [
       "<IPython.core.display.Image object>"
      ]
     },
     "metadata": {},
     "output_type": "display_data"
    }
   ],
   "source": [
    "c.Draw()"
   ]
  },
  {
   "cell_type": "code",
   "execution_count": 3,
   "id": "3b9439a3-bbd9-47de-bfed-a13c42c4c8f3",
   "metadata": {},
   "outputs": [
    {
     "name": "stdout",
     "output_type": "stream",
     "text": [
      "name       value (rounded)      at limit  \n",
      "----------------------------------------\n",
      "alphaL     0.952565             False     \n",
      "alphaR     1.515874             False     \n",
      "lambda_exp -0.022724            False     \n",
      "mu_cb      90.778947            False     \n",
      "nL         2.553480             False     \n",
      "nR         7.088831             False     \n",
      "nbkg       504222.273501        False     \n",
      "nsig       223465.738162        False     \n",
      "sigmaLR    3.519760             False     \n"
     ]
    }
   ],
   "source": [
    "fit_params = result.floatParsFinal()  # Assuming 'result' is the fit result from model.fitTo(...)\n",
    "\n",
    "print(f\"{'name':<10} {'value (rounded)':<20} {'at limit':<10}\")\n",
    "print(\"-\" * 40)\n",
    "\n",
    "for i in range(fit_params.getSize()):\n",
    "    param = fit_params.at(i)\n",
    "    name = param.GetName()\n",
    "    value = param.getVal()\n",
    "    at_limit = False\n",
    "    print(f\"{name:<10} {value:<20.6f} {str(at_limit):<10}\")"
   ]
  },
  {
   "cell_type": "code",
   "execution_count": null,
   "id": "4cef86b4-a946-4674-bf64-4fab73ae0bb6",
   "metadata": {},
   "outputs": [],
   "source": []
  }
 ],
 "metadata": {
  "kernelspec": {
   "display_name": "Python 3 (ipykernel)",
   "language": "python",
   "name": "python3"
  },
  "language_info": {
   "codemirror_mode": {
    "name": "ipython",
    "version": 3
   },
   "file_extension": ".py",
   "mimetype": "text/x-python",
   "name": "python",
   "nbconvert_exporter": "python",
   "pygments_lexer": "ipython3",
   "version": "3.11.8"
  }
 },
 "nbformat": 4,
 "nbformat_minor": 5
}
